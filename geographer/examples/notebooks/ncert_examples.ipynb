{
 "cells": [
  {
   "cell_type": "markdown",
   "id": "23bccaa4",
   "metadata": {},
   "source": [
    "# GeoGrapher NCERT Examples\n",
    "This notebook showcases a few sample problems solved with the GeoGrapher core package."
   ]
  },
  {
   "cell_type": "code",
   "execution_count": null,
   "id": "96d32b2b",
   "metadata": {},
   "outputs": [],
   "source": [
    "from geographer.core import Point, distance, TriangleMetrics\n",
    "A = Point(0, 0, 'A')\n",
    "B = Point(4, 0, 'B')\n",
    "C = Point(0, 3, 'C')\n",
    "print('Distance AB:', distance(A, B).payload['distance'])\n",
    "triangle = TriangleMetrics(A, B, C)\n",
    "summary = triangle.summary()\n",
    "print('Area ΔABC:', summary.payload['area'])\n",
    "print('Centroid:', summary.payload['centroid'])"
   ]
  }
 ],
 "metadata": {
  "language_info": {
   "name": "python"
  }
 },
 "nbformat": 4,
 "nbformat_minor": 5
}
